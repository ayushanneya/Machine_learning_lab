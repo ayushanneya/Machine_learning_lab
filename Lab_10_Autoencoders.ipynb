{
  "nbformat": 4,
  "nbformat_minor": 0,
  "metadata": {
    "colab": {
      "provenance": [],
      "include_colab_link": true
    },
    "kernelspec": {
      "name": "python3",
      "display_name": "Python 3"
    }
  },
  "cells": [
    {
      "cell_type": "markdown",
      "metadata": {
        "id": "view-in-github",
        "colab_type": "text"
      },
      "source": [
        "<a href=\"https://colab.research.google.com/github/ayushanneya/Machine_learning_lab/blob/main/Lab_10_Autoencoders.ipynb\" target=\"_parent\"><img src=\"https://colab.research.google.com/assets/colab-badge.svg\" alt=\"Open In Colab\"/></a>"
      ]
    },
    {
      "cell_type": "code",
      "metadata": {
        "id": "WQl8TSiHSOCU"
      },
      "source": [
        "from keras.layers import Input, Dense\n",
        "from keras.models import Model\n",
        "\n",
        "# this is the size of our encoded representations\n",
        "encoding_dim = 128  # 32 floats -> compression of factor 24.5, assuming the input is 784 floats\n",
        "\n",
        "# this is our input placeholder\n",
        "input_img = Input(shape=(784,))\n",
        "# \"encoded\" is the encoded representation of the input\n",
        "encoded = Dense(encoding_dim, activation='relu')(input_img)\n",
        "# \"decoded\" is the lossy reconstruction of the input\n",
        "decoded = Dense(784, activation='sigmoid')(encoded)\n",
        "\n",
        "# this model maps an input to its reconstruction\n",
        "autoencoder = Model(input_img, decoded)"
      ],
      "execution_count": null,
      "outputs": []
    },
    {
      "cell_type": "code",
      "metadata": {
        "id": "Gq173u9YSTvU"
      },
      "source": [
        "# this model maps an input to its encoded representation\n",
        "encoder = Model(input_img, encoded)"
      ],
      "execution_count": null,
      "outputs": []
    },
    {
      "cell_type": "code",
      "metadata": {
        "id": "q3K4BB0VSbfD"
      },
      "source": [
        "# create a placeholder for an encoded (32-dimensional) input\n",
        "encoded_input = Input(shape=(encoding_dim,))\n",
        "# retrieve the last layer of the autoencoder model\n",
        "decoder_layer = autoencoder.layers[-1]\n",
        "# create the decoder model\n",
        "decoder = Model(encoded_input, decoder_layer(encoded_input))"
      ],
      "execution_count": null,
      "outputs": []
    },
    {
      "cell_type": "code",
      "metadata": {
        "id": "txJYhPm1SfLq"
      },
      "source": [
        "autoencoder.compile(optimizer='RMSprop', loss='binary_crossentropy')"
      ],
      "execution_count": null,
      "outputs": []
    },
    {
      "cell_type": "code",
      "metadata": {
        "id": "ox4PzfObSiQd"
      },
      "source": [
        "from keras.datasets import mnist\n",
        "import numpy as np\n",
        "(x_train, _), (x_test, _) = mnist.load_data()"
      ],
      "execution_count": null,
      "outputs": []
    },
    {
      "cell_type": "code",
      "metadata": {
        "id": "5riYiwmoSlDz",
        "colab": {
          "base_uri": "https://localhost:8080/"
        },
        "outputId": "8c82a8d2-da98-4745-a34f-eae8d960a1d8"
      },
      "source": [
        "x_train = x_train.astype('float32') / 255.\n",
        "x_test = x_test.astype('float32') / 255.\n",
        "x_train = x_train.reshape((len(x_train), np.prod(x_train.shape[1:])))\n",
        "x_test = x_test.reshape((len(x_test), np.prod(x_test.shape[1:])))\n",
        "print (x_train.shape)\n",
        "print (x_test.shape)"
      ],
      "execution_count": null,
      "outputs": [
        {
          "output_type": "stream",
          "name": "stdout",
          "text": [
            "(60000, 784)\n",
            "(10000, 784)\n"
          ]
        }
      ]
    },
    {
      "cell_type": "code",
      "metadata": {
        "id": "zzkP2dNISsfq",
        "colab": {
          "base_uri": "https://localhost:8080/"
        },
        "outputId": "6115d40c-7322-49bb-81da-4b342f0877b5"
      },
      "source": [
        "autoencoder.fit(x_train, x_train,\n",
        "                epochs=12,\n",
        "                batch_size=144,\n",
        "                shuffle=True,\n",
        "                validation_data=(x_test, x_test))"
      ],
      "execution_count": null,
      "outputs": [
        {
          "output_type": "stream",
          "name": "stdout",
          "text": [
            "Epoch 1/12\n",
            "417/417 [==============================] - 5s 11ms/step - loss: 0.2417 - val_loss: 0.1765\n",
            "Epoch 2/12\n",
            "417/417 [==============================] - 5s 12ms/step - loss: 0.1585 - val_loss: 0.1420\n",
            "Epoch 3/12\n",
            "417/417 [==============================] - 4s 10ms/step - loss: 0.1333 - val_loss: 0.1232\n",
            "Epoch 4/12\n",
            "417/417 [==============================] - 4s 11ms/step - loss: 0.1181 - val_loss: 0.1107\n",
            "Epoch 5/12\n",
            "417/417 [==============================] - 5s 13ms/step - loss: 0.1072 - val_loss: 0.1014\n",
            "Epoch 6/12\n",
            "417/417 [==============================] - 4s 10ms/step - loss: 0.0995 - val_loss: 0.0951\n",
            "Epoch 7/12\n",
            "417/417 [==============================] - 4s 9ms/step - loss: 0.0942 - val_loss: 0.0908\n",
            "Epoch 8/12\n",
            "417/417 [==============================] - 5s 13ms/step - loss: 0.0905 - val_loss: 0.0878\n",
            "Epoch 9/12\n",
            "417/417 [==============================] - 5s 11ms/step - loss: 0.0878 - val_loss: 0.0854\n",
            "Epoch 10/12\n",
            "417/417 [==============================] - 4s 10ms/step - loss: 0.0857 - val_loss: 0.0836\n",
            "Epoch 11/12\n",
            "417/417 [==============================] - 6s 13ms/step - loss: 0.0840 - val_loss: 0.0821\n",
            "Epoch 12/12\n",
            "417/417 [==============================] - 4s 10ms/step - loss: 0.0826 - val_loss: 0.0809\n"
          ]
        },
        {
          "output_type": "execute_result",
          "data": {
            "text/plain": [
              "<keras.src.callbacks.History at 0x7c11766606a0>"
            ]
          },
          "metadata": {},
          "execution_count": 19
        }
      ]
    },
    {
      "cell_type": "code",
      "metadata": {
        "id": "OUr7fRVwSwHY",
        "colab": {
          "base_uri": "https://localhost:8080/"
        },
        "outputId": "ebf21121-0600-4b15-d3c0-c5f15ab18600"
      },
      "source": [
        "# encode and decode some digits\n",
        "# note that we take them from the *test* set\n",
        "encoded_imgs = encoder.predict(x_test)\n",
        "decoded_imgs = decoder.predict(encoded_imgs)"
      ],
      "execution_count": null,
      "outputs": [
        {
          "output_type": "stream",
          "name": "stdout",
          "text": [
            "313/313 [==============================] - 1s 2ms/step\n",
            "313/313 [==============================] - 1s 2ms/step\n"
          ]
        }
      ]
    },
    {
      "cell_type": "code",
      "metadata": {
        "id": "HqkoJw8xSzH1",
        "colab": {
          "base_uri": "https://localhost:8080/",
          "height": 317
        },
        "outputId": "790d958b-d52a-40a9-81b0-0359bcafd8da"
      },
      "source": [
        "# use Matplotlib (don't ask)\n",
        "import matplotlib.pyplot as plt\n",
        "\n",
        "n = 10  # how many digits we will display\n",
        "plt.figure(figsize=(20, 4))\n",
        "for i in range(n):\n",
        "    # display original\n",
        "    ax = plt.subplot(2, n, i + 1)\n",
        "    plt.imshow(x_test[i].reshape(28, 28))\n",
        "    plt.gray()\n",
        "    ax.get_xaxis().set_visible(False)\n",
        "    ax.get_yaxis().set_visible(False)\n",
        "\n",
        "    # display reconstruction\n",
        "    ax = plt.subplot(2, n, i + 1 + n)\n",
        "    plt.imshow(decoded_imgs[i].reshape(28, 28))\n",
        "    plt.gray()\n",
        "    ax.get_xaxis().set_visible(False)\n",
        "    ax.get_yaxis().set_visible(False)\n",
        "plt.show()"
      ],
      "execution_count": null,
      "outputs": [
        {
          "output_type": "display_data",
          "data": {
            "text/plain": [
              "<Figure size 2000x400 with 20 Axes>"
            ],
            "image/png": "[encoded data removed]"
          },
          "metadata": {}
        }
      ]
    },
    {
      "cell_type": "code",
      "source": [
        "from keras.layers import Input, Dense\n",
        "from keras.models import Model\n",
        "\n",
        "# Define the size of the encoded representation\n",
        "encoding_dim = 256  # 32 floats -> compression of factor 24.5, assuming the input is 784 floats\n",
        "\n",
        "# Input placeholder\n",
        "input_img = Input(shape=(784,))\n",
        "\n",
        "# Encoding layers\n",
        "encoded = Dense(128, activation='relu')(input_img)\n",
        "encoded = Dense(64, activation='relu')(encoded)\n",
        "encoded = Dense(encoding_dim, activation='relu')(encoded)\n",
        "\n",
        "# Decoding layers\n",
        "decoded = Dense(64, activation='relu')(encoded)\n",
        "decoded = Dense(128, activation='relu')(decoded)\n",
        "decoded = Dense(784, activation='sigmoid')(decoded)\n",
        "\n",
        "# Autoencoder model\n",
        "autoencoder = Model(input_img, decoded)\n",
        "\n",
        "# Encoder model\n",
        "encoder = Model(input_img, encoded)\n",
        "\n",
        "# Decoder model\n",
        "encoded_input = Input(shape=(encoding_dim,))\n",
        "decoder_layer1 = autoencoder.layers[-3]\n",
        "decoder_layer2 = autoencoder.layers[-2]\n",
        "decoder_layer3 = autoencoder.layers[-1]\n",
        "decoder = Model(encoded_input, decoder_layer3(decoder_layer2(decoder_layer1(encoded_input))))\n"
      ],
      "metadata": {
        "id": "ODd0yFC1bl7l"
      },
      "execution_count": null,
      "outputs": []
    },
    {
      "cell_type": "code",
      "source": [
        "# Compile the model\n",
        "autoencoder.compile(optimizer='adam', loss='binary_crossentropy')\n",
        "\n",
        "# Train the model\n",
        "autoencoder.fit(x_train, x_train,\n",
        "                epochs=12,\n",
        "                batch_size=1024,\n",
        "                shuffle=True,\n",
        "                validation_data=(x_test, x_test))\n",
        "\n"
      ],
      "metadata": {
        "colab": {
          "base_uri": "https://localhost:8080/"
        },
        "id": "pedaPEaRcAic",
        "outputId": "ff552609-0337-4ce6-a8fb-5d6805a50440"
      },
      "execution_count": null,
      "outputs": [
        {
          "output_type": "stream",
          "name": "stdout",
          "text": [
            "Epoch 1/12\n",
            "59/59 [==============================] - 5s 70ms/step - loss: 0.0899 - val_loss: 0.0829\n",
            "Epoch 2/12\n",
            "59/59 [==============================] - 3s 49ms/step - loss: 0.0832 - val_loss: 0.0825\n",
            "Epoch 3/12\n",
            "59/59 [==============================] - 3s 48ms/step - loss: 0.0831 - val_loss: 0.0825\n",
            "Epoch 4/12\n",
            "59/59 [==============================] - 3s 48ms/step - loss: 0.0830 - val_loss: 0.0825\n",
            "Epoch 5/12\n",
            "59/59 [==============================] - 4s 77ms/step - loss: 0.0829 - val_loss: 0.0825\n",
            "Epoch 6/12\n",
            "59/59 [==============================] - 4s 71ms/step - loss: 0.0828 - val_loss: 0.0822\n",
            "Epoch 7/12\n",
            "59/59 [==============================] - 3s 47ms/step - loss: 0.0827 - val_loss: 0.0821\n",
            "Epoch 8/12\n",
            "59/59 [==============================] - 3s 47ms/step - loss: 0.0825 - val_loss: 0.0819\n",
            "Epoch 9/12\n",
            "59/59 [==============================] - 4s 69ms/step - loss: 0.0825 - val_loss: 0.0821\n",
            "Epoch 10/12\n",
            "59/59 [==============================] - 3s 47ms/step - loss: 0.0824 - val_loss: 0.0820\n",
            "Epoch 11/12\n",
            "59/59 [==============================] - 3s 47ms/step - loss: 0.0823 - val_loss: 0.0818\n",
            "Epoch 12/12\n",
            "59/59 [==============================] - 3s 48ms/step - loss: 0.0821 - val_loss: 0.0815\n"
          ]
        },
        {
          "output_type": "execute_result",
          "data": {
            "text/plain": [
              "<keras.src.callbacks.History at 0x7c1159076bc0>"
            ]
          },
          "metadata": {},
          "execution_count": 27
        }
      ]
    },
    {
      "cell_type": "code",
      "source": [
        "# encode and decode some digits\n",
        "# note that we take them from the *test* set\n",
        "encoded_imgs = encoder.predict(x_test)\n",
        "decoded_imgs = decoder.predict(encoded_imgs)"
      ],
      "metadata": {
        "colab": {
          "base_uri": "https://localhost:8080/"
        },
        "id": "NKK5C_rlcNDl",
        "outputId": "f963eccc-b222-4c07-e197-1ecbb12ff720"
      },
      "execution_count": null,
      "outputs": [
        {
          "output_type": "stream",
          "name": "stdout",
          "text": [
            "313/313 [==============================] - 1s 2ms/step\n",
            "313/313 [==============================] - 1s 2ms/step\n"
          ]
        }
      ]
    },
    {
      "cell_type": "code",
      "source": [
        "# use Matplotlib (don't ask)\n",
        "import matplotlib.pyplot as plt\n",
        "\n",
        "n = 10  # how many digits we will display\n",
        "plt.figure(figsize=(20, 4))\n",
        "for i in range(n):\n",
        "    # display original\n",
        "    ax = plt.subplot(2, n, i + 1)\n",
        "    plt.imshow(x_test[i].reshape(28, 28))\n",
        "    plt.gray()\n",
        "    ax.get_xaxis().set_visible(False)\n",
        "    ax.get_yaxis().set_visible(False)\n",
        "\n",
        "    # display reconstruction\n",
        "    ax = plt.subplot(2, n, i + 1 + n)\n",
        "    plt.imshow(decoded_imgs[i].reshape(28, 28))\n",
        "    plt.gray()\n",
        "    ax.get_xaxis().set_visible(False)\n",
        "    ax.get_yaxis().set_visible(False)\n",
        "plt.show()"
      ],
      "metadata": {
        "colab": {
          "base_uri": "https://localhost:8080/",
          "height": 317
        },
        "id": "ZQA_n46BcI47",
        "outputId": "be6a054c-2cf2-4d67-9563-28e205ac7b64"
      },
      "execution_count": null,
      "outputs": [
        {
          "output_type": "display_data",
          "data": {
            "text/plain": [
              "<Figure size 2000x400 with 20 Axes>"
            ],
            "image/png": "[encoded data removed]"
          },
          "metadata": {}
        }
      ]
    }
  ]
}